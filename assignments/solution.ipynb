{
 "cells": [
  {
   "cell_type": "code",
   "execution_count": 4,
   "id": "3c3cac40-993a-4fca-bccb-b91d99389e3c",
   "metadata": {},
   "outputs": [],
   "source": [
    "import pandas as pd\n",
    "import pickle"
   ]
  },
  {
   "cell_type": "code",
   "execution_count": 3,
   "id": "f7117a79-217c-4cdc-b62f-ce78eaeac8e7",
   "metadata": {},
   "outputs": [],
   "source": [
    "df = pd.DataFrame([1,2,3])"
   ]
  },
  {
   "cell_type": "code",
   "execution_count": 5,
   "id": "18b1bacd-f1d1-4975-902d-558194069dbb",
   "metadata": {},
   "outputs": [],
   "source": [
    "pickle.dump(df, open('out.pkl', mode='wb'))"
   ]
  },
  {
   "cell_type": "code",
   "execution_count": null,
   "id": "c3188cee-c00b-4605-9ce8-71ef9601e456",
   "metadata": {},
   "outputs": [],
   "source": []
  },
  {
   "cell_type": "code",
   "execution_count": null,
   "id": "de5b8c23-8976-4157-8d7d-98e9adfb173b",
   "metadata": {},
   "outputs": [],
   "source": []
  },
  {
   "cell_type": "code",
   "execution_count": null,
   "id": "c2dcf73d-7917-472d-a673-850254359110",
   "metadata": {},
   "outputs": [],
   "source": []
  }
 ],
 "metadata": {
  "kernelspec": {
   "display_name": "Python 3 (ipykernel)",
   "language": "python",
   "name": "python3"
  },
  "language_info": {
   "codemirror_mode": {
    "name": "ipython",
    "version": 3
   },
   "file_extension": ".py",
   "mimetype": "text/x-python",
   "name": "python",
   "nbconvert_exporter": "python",
   "pygments_lexer": "ipython3",
   "version": "3.9.10"
  }
 },
 "nbformat": 4,
 "nbformat_minor": 5
}
