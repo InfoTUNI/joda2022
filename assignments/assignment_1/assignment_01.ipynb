{
 "cells": [
  {
   "cell_type": "code",
   "execution_count": 4,
   "id": "d6fff47d-68e4-4af9-84ab-fa10c7a3cf9f",
   "metadata": {},
   "outputs": [],
   "source": [
    "import pandas as pd\n",
    "import numpy as np\n",
    "\n",
    "from sklearn import preprocessing\n",
    "from sklearn import linear_model\n",
    "from sklearn.model_selection import cross_val_predict\n",
    "from sklearn.impute import SimpleImputer\n",
    "from sklearn.metrics import mean_squared_error\n",
    "import os\n",
    "\n",
    "import ssl\n",
    "ssl._create_default_https_context = ssl._create_unverified_context"
   ]
  },
  {
   "cell_type": "code",
   "execution_count": 5,
   "id": "202e5c5c-1df7-44ad-aac2-ebfbd66709cc",
   "metadata": {},
   "outputs": [],
   "source": [
    "df = pd.read_csv('https://raw.githubusercontent.com/InfoTUNI/joda2022/master/koodiesimerkit/data.csv')\n",
    "\n"
   ]
  },
  {
   "cell_type": "code",
   "execution_count": 6,
   "id": "5f1d60e7-92ac-48f1-9874-2b3b1868b185",
   "metadata": {},
   "outputs": [],
   "source": [
    "#select a subset of attributes \n",
    "df = df[['review_scores_accuracy','review_scores_cleanliness',\n",
    "         'review_scores_checkin','review_scores_communication',\n",
    "         'review_scores_location','review_scores_value',\n",
    "         'review_scores_rating']]"
   ]
  },
  {
   "cell_type": "code",
   "execution_count": 7,
   "id": "31e0838d-5e63-4574-ac0f-7da0c736f248",
   "metadata": {},
   "outputs": [],
   "source": [
    "# Drop rows where all attributes are nan\n",
    "df.dropna(axis=0, how='all', inplace=True)"
   ]
  },
  {
   "cell_type": "code",
   "execution_count": 8,
   "id": "7127aee0-91dc-42b0-b658-f03a74dcdf53",
   "metadata": {},
   "outputs": [],
   "source": [
    "# Impute median value for original missing values and generate new dataframe\n",
    "imputer = SimpleImputer(strategy='median')\n",
    "df_imp = pd.DataFrame(imputer.fit_transform(df))\n",
    "\n",
    "df_imp.columns = df.columns\n",
    "df_imp.index = df.index"
   ]
  },
  {
   "cell_type": "code",
   "execution_count": 9,
   "id": "0a1e1245-acee-4290-94f3-b6d3e6c0c139",
   "metadata": {},
   "outputs": [],
   "source": [
    "# Run Linear Regression\n",
    "lr = linear_model.LinearRegression()"
   ]
  },
  {
   "cell_type": "code",
   "execution_count": 10,
   "id": "59b0943b-71f7-4470-9440-3c20054fb060",
   "metadata": {},
   "outputs": [],
   "source": [
    "\n",
    "y = df_imp.review_scores_rating\n",
    "X = df_imp.drop(columns='review_scores_rating')\n",
    "\n",
    "predict = cross_val_predict(lr, X, y, cv=10)"
   ]
  },
  {
   "cell_type": "code",
   "execution_count": 21,
   "id": "778c0abe-76f7-4653-ba7a-b3aa8a620522",
   "metadata": {},
   "outputs": [],
   "source": [
    "with open('true_labels.csv', mode='w') as fout:\n",
    "    for l in y:\n",
    "        fout.write(str(l)+'\\n')"
   ]
  },
  {
   "cell_type": "code",
   "execution_count": null,
   "id": "2fe2c74a-5568-4cb8-a190-3e5f7710d5e7",
   "metadata": {},
   "outputs": [],
   "source": []
  },
  {
   "cell_type": "code",
   "execution_count": null,
   "id": "ea26634a-cecb-4631-98fb-64957de7a8f3",
   "metadata": {},
   "outputs": [],
   "source": []
  },
  {
   "cell_type": "code",
   "execution_count": null,
   "id": "98d93e6b-5b79-4d34-9726-bbe29345a62e",
   "metadata": {},
   "outputs": [],
   "source": []
  }
 ],
 "metadata": {
  "kernelspec": {
   "display_name": "Python 3 (ipykernel)",
   "language": "python",
   "name": "python3"
  },
  "language_info": {
   "codemirror_mode": {
    "name": "ipython",
    "version": 3
   },
   "file_extension": ".py",
   "mimetype": "text/x-python",
   "name": "python",
   "nbconvert_exporter": "python",
   "pygments_lexer": "ipython3",
   "version": "3.8.0"
  }
 },
 "nbformat": 4,
 "nbformat_minor": 5
}
