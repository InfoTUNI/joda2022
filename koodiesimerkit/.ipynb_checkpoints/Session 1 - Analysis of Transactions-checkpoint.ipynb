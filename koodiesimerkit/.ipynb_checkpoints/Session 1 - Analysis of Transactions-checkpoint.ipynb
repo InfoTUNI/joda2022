{
 "cells": [
  {
   "cell_type": "markdown",
   "metadata": {},
   "source": [
    "<H1> Session 1 - Analysing Transaction Data </H1>\n",
    "\n",
    "In this session we will be analysing transaction data.\n",
    "<br>\n",
    "The data consist of transaction details that were executed within a specific time window."
   ]
  },
  {
   "cell_type": "code",
   "execution_count": 1,
   "metadata": {},
   "outputs": [],
   "source": [
    "# Declare the libraries that will be used\n",
    "import pandas as pd\n",
    "# Used to plot the results\n",
    "import matplotlib.pyplot as plt\n",
    "from matplotlib import style\n",
    "style.use('ggplot')"
   ]
  },
  {
   "cell_type": "code",
   "execution_count": 2,
   "metadata": {},
   "outputs": [
    {
     "name": "stdout",
     "output_type": "stream",
     "text": [
      "List of attributes: ['Transaction_date', 'Product', 'Price', 'Payment_Type', 'Name', 'City', 'State', 'Country', 'Account_Created', 'Last_Login', 'Latitude', 'Longitude']\n"
     ]
    }
   ],
   "source": [
    "url = 'https://github.com/jodatut/2020/raw/master/koodiesimerkit/SalesJan2009.csv'\n",
    "\n",
    "# Use pandas to import data\n",
    "orig_df = pd.read_csv(url)\n",
    "\n",
    "# To keep original dataframe for referencing\n",
    "df = orig_df.copy()\n",
    "print('List of attributes:', df.columns.values.tolist())"
   ]
  },
  {
   "cell_type": "code",
   "execution_count": 4,
   "metadata": {},
   "outputs": [
    {
     "name": "stdout",
     "output_type": "stream",
     "text": [
      "  Transaction_date   Product  Price Payment_Type               Name  \\\n",
      "0      1/2/09 6:17  Product1   1200   Mastercard           carolina   \n",
      "1      1/2/09 4:53  Product1   1200         Visa             Betina   \n",
      "2     1/2/09 13:08  Product1   1200   Mastercard  Federica e Andrea   \n",
      "3     1/3/09 14:44  Product1   1200         Visa              Gouya   \n",
      "4     1/4/09 12:56  Product2   3600         Visa            Gerd W    \n",
      "\n",
      "                           City     State         Country Account_Created  \\\n",
      "0                      Basildon   England  United Kingdom     1/2/09 6:00   \n",
      "1  Parkville                           MO   United States     1/2/09 4:42   \n",
      "2  Astoria                             OR   United States    1/1/09 16:21   \n",
      "3                        Echuca  Victoria       Australia   9/25/05 21:13   \n",
      "4  Cahaba Heights                      AL   United States  11/15/08 15:47   \n",
      "\n",
      "     Last_Login   Latitude   Longitude  \n",
      "0   1/2/09 6:08  51.500000   -1.116667  \n",
      "1   1/2/09 7:49  39.195000  -94.681940  \n",
      "2  1/3/09 12:32  46.188060 -123.830000  \n",
      "3  1/3/09 14:22 -36.133333  144.750000  \n",
      "4  1/4/09 12:45  33.520560  -86.802500  \n"
     ]
    }
   ],
   "source": [
    "print(df.head())"
   ]
  },
  {
   "cell_type": "code",
   "execution_count": 5,
   "metadata": {},
   "outputs": [
    {
     "name": "stdout",
     "output_type": "stream",
     "text": [
      "Transaction_date     object\n",
      "Product              object\n",
      "Price                 int64\n",
      "Payment_Type         object\n",
      "Name                 object\n",
      "City                 object\n",
      "State                object\n",
      "Country              object\n",
      "Account_Created      object\n",
      "Last_Login           object\n",
      "Latitude            float64\n",
      "Longitude           float64\n",
      "dtype: object\n"
     ]
    }
   ],
   "source": [
    "print(df.dtypes)"
   ]
  },
  {
   "cell_type": "code",
   "execution_count": 6,
   "metadata": {},
   "outputs": [
    {
     "name": "stdout",
     "output_type": "stream",
     "text": [
      "Transaction_date    datetime64[ns]\n",
      "Product                     object\n",
      "Price                        int64\n",
      "Payment_Type                object\n",
      "Name                        object\n",
      "City                        object\n",
      "State                       object\n",
      "Country                     object\n",
      "Account_Created     datetime64[ns]\n",
      "Last_Login          datetime64[ns]\n",
      "Latitude                   float64\n",
      "Longitude                  float64\n",
      "dtype: object\n"
     ]
    }
   ],
   "source": [
    "# Convert object types\n",
    "df['Transaction_date'] = pd.to_datetime(df['Transaction_date'])\n",
    "df['Account_Created'] = pd.to_datetime(df['Account_Created'])\n",
    "df['Last_Login'] = pd.to_datetime(df['Last_Login'])\n",
    "\n",
    "print(df.dtypes)"
   ]
  },
  {
   "cell_type": "code",
   "execution_count": 7,
   "metadata": {},
   "outputs": [
    {
     "data": {
      "text/html": [
       "<div>\n",
       "<style scoped>\n",
       "    .dataframe tbody tr th:only-of-type {\n",
       "        vertical-align: middle;\n",
       "    }\n",
       "\n",
       "    .dataframe tbody tr th {\n",
       "        vertical-align: top;\n",
       "    }\n",
       "\n",
       "    .dataframe thead th {\n",
       "        text-align: right;\n",
       "    }\n",
       "</style>\n",
       "<table border=\"1\" class=\"dataframe\">\n",
       "  <thead>\n",
       "    <tr style=\"text-align: right;\">\n",
       "      <th></th>\n",
       "      <th>Transaction_date</th>\n",
       "      <th>Product</th>\n",
       "      <th>Price</th>\n",
       "      <th>Payment_Type</th>\n",
       "      <th>Name</th>\n",
       "      <th>City</th>\n",
       "      <th>State</th>\n",
       "      <th>Country</th>\n",
       "      <th>Account_Created</th>\n",
       "      <th>Last_Login</th>\n",
       "      <th>Latitude</th>\n",
       "      <th>Longitude</th>\n",
       "    </tr>\n",
       "  </thead>\n",
       "  <tbody>\n",
       "    <tr>\n",
       "      <th>0</th>\n",
       "      <td>2009-01-02 06:17:00</td>\n",
       "      <td>Product1</td>\n",
       "      <td>1200</td>\n",
       "      <td>Mastercard</td>\n",
       "      <td>carolina</td>\n",
       "      <td>Basildon</td>\n",
       "      <td>England</td>\n",
       "      <td>United Kingdom</td>\n",
       "      <td>2009-01-02 06:00:00</td>\n",
       "      <td>2009-01-02 06:08:00</td>\n",
       "      <td>51.500000</td>\n",
       "      <td>-1.116667</td>\n",
       "    </tr>\n",
       "    <tr>\n",
       "      <th>1</th>\n",
       "      <td>2009-01-02 04:53:00</td>\n",
       "      <td>Product1</td>\n",
       "      <td>1200</td>\n",
       "      <td>Visa</td>\n",
       "      <td>Betina</td>\n",
       "      <td>Parkville</td>\n",
       "      <td>MO</td>\n",
       "      <td>United States</td>\n",
       "      <td>2009-01-02 04:42:00</td>\n",
       "      <td>2009-01-02 07:49:00</td>\n",
       "      <td>39.195000</td>\n",
       "      <td>-94.681940</td>\n",
       "    </tr>\n",
       "    <tr>\n",
       "      <th>2</th>\n",
       "      <td>2009-01-02 13:08:00</td>\n",
       "      <td>Product1</td>\n",
       "      <td>1200</td>\n",
       "      <td>Mastercard</td>\n",
       "      <td>Federica e Andrea</td>\n",
       "      <td>Astoria</td>\n",
       "      <td>OR</td>\n",
       "      <td>United States</td>\n",
       "      <td>2009-01-01 16:21:00</td>\n",
       "      <td>2009-01-03 12:32:00</td>\n",
       "      <td>46.188060</td>\n",
       "      <td>-123.830000</td>\n",
       "    </tr>\n",
       "    <tr>\n",
       "      <th>3</th>\n",
       "      <td>2009-01-03 14:44:00</td>\n",
       "      <td>Product1</td>\n",
       "      <td>1200</td>\n",
       "      <td>Visa</td>\n",
       "      <td>Gouya</td>\n",
       "      <td>Echuca</td>\n",
       "      <td>Victoria</td>\n",
       "      <td>Australia</td>\n",
       "      <td>2005-09-25 21:13:00</td>\n",
       "      <td>2009-01-03 14:22:00</td>\n",
       "      <td>-36.133333</td>\n",
       "      <td>144.750000</td>\n",
       "    </tr>\n",
       "    <tr>\n",
       "      <th>4</th>\n",
       "      <td>2009-01-04 12:56:00</td>\n",
       "      <td>Product2</td>\n",
       "      <td>3600</td>\n",
       "      <td>Visa</td>\n",
       "      <td>Gerd W</td>\n",
       "      <td>Cahaba Heights</td>\n",
       "      <td>AL</td>\n",
       "      <td>United States</td>\n",
       "      <td>2008-11-15 15:47:00</td>\n",
       "      <td>2009-01-04 12:45:00</td>\n",
       "      <td>33.520560</td>\n",
       "      <td>-86.802500</td>\n",
       "    </tr>\n",
       "    <tr>\n",
       "      <th>...</th>\n",
       "      <td>...</td>\n",
       "      <td>...</td>\n",
       "      <td>...</td>\n",
       "      <td>...</td>\n",
       "      <td>...</td>\n",
       "      <td>...</td>\n",
       "      <td>...</td>\n",
       "      <td>...</td>\n",
       "      <td>...</td>\n",
       "      <td>...</td>\n",
       "      <td>...</td>\n",
       "      <td>...</td>\n",
       "    </tr>\n",
       "    <tr>\n",
       "      <th>995</th>\n",
       "      <td>2009-01-01 04:24:00</td>\n",
       "      <td>Product3</td>\n",
       "      <td>7500</td>\n",
       "      <td>Amex</td>\n",
       "      <td>Pamela</td>\n",
       "      <td>Skaneateles</td>\n",
       "      <td>NY</td>\n",
       "      <td>United States</td>\n",
       "      <td>2008-12-28 17:28:00</td>\n",
       "      <td>2009-03-01 07:21:00</td>\n",
       "      <td>42.946940</td>\n",
       "      <td>-76.429440</td>\n",
       "    </tr>\n",
       "    <tr>\n",
       "      <th>996</th>\n",
       "      <td>2009-01-08 11:55:00</td>\n",
       "      <td>Product1</td>\n",
       "      <td>1200</td>\n",
       "      <td>Diners</td>\n",
       "      <td>julie</td>\n",
       "      <td>Haverhill</td>\n",
       "      <td>England</td>\n",
       "      <td>United Kingdom</td>\n",
       "      <td>2006-11-29 13:31:00</td>\n",
       "      <td>2009-03-01 07:28:00</td>\n",
       "      <td>52.083333</td>\n",
       "      <td>0.433333</td>\n",
       "    </tr>\n",
       "    <tr>\n",
       "      <th>997</th>\n",
       "      <td>2009-01-12 21:30:00</td>\n",
       "      <td>Product1</td>\n",
       "      <td>1200</td>\n",
       "      <td>Visa</td>\n",
       "      <td>Julia</td>\n",
       "      <td>Madison</td>\n",
       "      <td>WI</td>\n",
       "      <td>United States</td>\n",
       "      <td>2008-11-17 22:24:00</td>\n",
       "      <td>2009-03-01 10:14:00</td>\n",
       "      <td>43.073060</td>\n",
       "      <td>-89.401110</td>\n",
       "    </tr>\n",
       "    <tr>\n",
       "      <th>998</th>\n",
       "      <td>2009-01-02 06:17:00</td>\n",
       "      <td>Product1</td>\n",
       "      <td>1200</td>\n",
       "      <td>Mastercard</td>\n",
       "      <td>carolina</td>\n",
       "      <td>Basildon</td>\n",
       "      <td>England</td>\n",
       "      <td>United Kingdom</td>\n",
       "      <td>2009-01-02 06:00:00</td>\n",
       "      <td>2009-01-02 06:08:00</td>\n",
       "      <td>51.500000</td>\n",
       "      <td>-1.116667</td>\n",
       "    </tr>\n",
       "    <tr>\n",
       "      <th>999</th>\n",
       "      <td>2009-01-02 04:53:00</td>\n",
       "      <td>Product1</td>\n",
       "      <td>1200</td>\n",
       "      <td>Visa</td>\n",
       "      <td>Betina</td>\n",
       "      <td>Parkville</td>\n",
       "      <td>MO</td>\n",
       "      <td>United States</td>\n",
       "      <td>2009-01-02 04:42:00</td>\n",
       "      <td>2009-01-02 07:49:00</td>\n",
       "      <td>39.195000</td>\n",
       "      <td>-94.681940</td>\n",
       "    </tr>\n",
       "  </tbody>\n",
       "</table>\n",
       "<p>1000 rows × 12 columns</p>\n",
       "</div>"
      ],
      "text/plain": [
       "       Transaction_date   Product  Price Payment_Type               Name  \\\n",
       "0   2009-01-02 06:17:00  Product1   1200   Mastercard           carolina   \n",
       "1   2009-01-02 04:53:00  Product1   1200         Visa             Betina   \n",
       "2   2009-01-02 13:08:00  Product1   1200   Mastercard  Federica e Andrea   \n",
       "3   2009-01-03 14:44:00  Product1   1200         Visa              Gouya   \n",
       "4   2009-01-04 12:56:00  Product2   3600         Visa            Gerd W    \n",
       "..                  ...       ...    ...          ...                ...   \n",
       "995 2009-01-01 04:24:00  Product3   7500         Amex             Pamela   \n",
       "996 2009-01-08 11:55:00  Product1   1200       Diners              julie   \n",
       "997 2009-01-12 21:30:00  Product1   1200         Visa             Julia    \n",
       "998 2009-01-02 06:17:00  Product1   1200   Mastercard           carolina   \n",
       "999 2009-01-02 04:53:00  Product1   1200         Visa             Betina   \n",
       "\n",
       "                             City     State         Country  \\\n",
       "0                        Basildon   England  United Kingdom   \n",
       "1    Parkville                           MO   United States   \n",
       "2    Astoria                             OR   United States   \n",
       "3                          Echuca  Victoria       Australia   \n",
       "4    Cahaba Heights                      AL   United States   \n",
       "..                            ...       ...             ...   \n",
       "995  Skaneateles                         NY   United States   \n",
       "996                     Haverhill   England  United Kingdom   \n",
       "997  Madison                             WI   United States   \n",
       "998                      Basildon   England  United Kingdom   \n",
       "999  Parkville                           MO   United States   \n",
       "\n",
       "        Account_Created          Last_Login   Latitude   Longitude  \n",
       "0   2009-01-02 06:00:00 2009-01-02 06:08:00  51.500000   -1.116667  \n",
       "1   2009-01-02 04:42:00 2009-01-02 07:49:00  39.195000  -94.681940  \n",
       "2   2009-01-01 16:21:00 2009-01-03 12:32:00  46.188060 -123.830000  \n",
       "3   2005-09-25 21:13:00 2009-01-03 14:22:00 -36.133333  144.750000  \n",
       "4   2008-11-15 15:47:00 2009-01-04 12:45:00  33.520560  -86.802500  \n",
       "..                  ...                 ...        ...         ...  \n",
       "995 2008-12-28 17:28:00 2009-03-01 07:21:00  42.946940  -76.429440  \n",
       "996 2006-11-29 13:31:00 2009-03-01 07:28:00  52.083333    0.433333  \n",
       "997 2008-11-17 22:24:00 2009-03-01 10:14:00  43.073060  -89.401110  \n",
       "998 2009-01-02 06:00:00 2009-01-02 06:08:00  51.500000   -1.116667  \n",
       "999 2009-01-02 04:42:00 2009-01-02 07:49:00  39.195000  -94.681940  \n",
       "\n",
       "[1000 rows x 12 columns]"
      ]
     },
     "execution_count": 7,
     "metadata": {},
     "output_type": "execute_result"
    }
   ],
   "source": [
    "df"
   ]
  },
  {
   "cell_type": "code",
   "execution_count": 8,
   "metadata": {},
   "outputs": [],
   "source": [
    "# Use general apply function\n",
    "caps = lambda x: x.upper()\n",
    "\n",
    "# def caps(x):\n",
    "#     return x.upper()\n",
    "\n",
    "df['Country'] = df['Country'].apply(caps)\n",
    "\n",
    "def test(x):\n",
    "    if x == \"Product1\":\n",
    "        return \"P1\"\n",
    "    else:\n",
    "        return x\n",
    "\n",
    "df['Product'] = df['Product'].apply(test)"
   ]
  },
  {
   "cell_type": "code",
   "execution_count": 9,
   "metadata": {},
   "outputs": [],
   "source": [
    "# New column to calculate logins within a week\n",
    "df['Login_week'] = \"\"\n",
    "\n",
    "def lastweek(x):\n",
    "    date = pd.Timestamp(2009, 2, 2)\n",
    "    date_diff = pd.Timedelta(date-x).days\n",
    "    if date_diff >= 0 and date_diff <= 7:\n",
    "        return \"Last week\"\n",
    "    else:\n",
    "        return \"Not last week\"\n",
    "    \n",
    "df['Login_week'] = df['Last_Login'].apply(lastweek)"
   ]
  },
  {
   "cell_type": "code",
   "execution_count": 10,
   "metadata": {},
   "outputs": [
    {
     "name": "stdout",
     "output_type": "stream",
     "text": [
      "       Transaction_date   Product  Price Payment_Type        Name  \\\n",
      "289 2009-01-26 03:43:00        P1   1200   Mastercard       Wendy   \n",
      "290 2009-01-26 03:49:00  Product2   3600   Mastercard        Jane   \n",
      "291 2009-01-11 13:16:00  Product2   3600         Visa      shelby   \n",
      "292 2009-01-22 15:32:00        P1   1200   Mastercard        Tara   \n",
      "293 2009-01-09 14:25:00        P1   1200         Amex       James   \n",
      "..                  ...       ...    ...          ...         ...   \n",
      "993 2009-01-22 14:25:00        P1   1200         Visa  Hans-Joerg   \n",
      "994 2009-01-28 05:36:00  Product2   3600         Visa  Christiane   \n",
      "995 2009-01-01 04:24:00  Product3   7500         Amex      Pamela   \n",
      "996 2009-01-08 11:55:00        P1   1200       Diners       julie   \n",
      "997 2009-01-12 21:30:00        P1   1200         Visa      Julia    \n",
      "\n",
      "                             City                       State         Country  \\\n",
      "289  Lake Mahopac                                          NY   UNITED STATES   \n",
      "290                          Biot  Provence-Alpes-Cote d'Azur          FRANCE   \n",
      "291  Plantation                                            FL   UNITED STATES   \n",
      "292                      Killiney                      Dublin         IRELAND   \n",
      "293                          Guer                    Brittany          FRANCE   \n",
      "..                            ...                         ...             ...   \n",
      "993                       Belfast            Northern Ireland  UNITED KINGDOM   \n",
      "994                   Black River                 Black River       MAURITIUS   \n",
      "995  Skaneateles                                           NY   UNITED STATES   \n",
      "996                     Haverhill                     England  UNITED KINGDOM   \n",
      "997  Madison                                               WI   UNITED STATES   \n",
      "\n",
      "        Account_Created          Last_Login   Latitude  Longitude Login_week  \n",
      "289 2009-01-26 03:10:00 2009-01-26 03:10:00  41.372220 -73.733890  Last week  \n",
      "290 2008-03-01 00:00:00 2009-01-26 03:18:00  43.633333   7.100000  Last week  \n",
      "291 2009-01-11 12:20:00 2009-01-26 03:42:00  26.121940 -80.143610  Last week  \n",
      "292 2007-02-27 11:35:00 2009-01-26 04:32:00  53.252222  -6.112500  Last week  \n",
      "293 2008-04-07 00:00:00 2009-01-26 05:32:00  47.900000  -2.116667  Last week  \n",
      "..                  ...                 ...        ...        ...        ...  \n",
      "993 2008-11-10 12:15:00 2009-03-01 03:37:00  54.583333  -5.933333  Last week  \n",
      "994 2009-01-09 08:10:00 2009-03-01 04:40:00 -20.360278  57.366111  Last week  \n",
      "995 2008-12-28 17:28:00 2009-03-01 07:21:00  42.946940 -76.429440  Last week  \n",
      "996 2006-11-29 13:31:00 2009-03-01 07:28:00  52.083333   0.433333  Last week  \n",
      "997 2008-11-17 22:24:00 2009-03-01 10:14:00  43.073060 -89.401110  Last week  \n",
      "\n",
      "[709 rows x 13 columns]\n"
     ]
    }
   ],
   "source": [
    "print(df[ df['Login_week']=='Last week' ])"
   ]
  },
  {
   "cell_type": "code",
   "execution_count": 11,
   "metadata": {},
   "outputs": [
    {
     "name": "stdout",
     "output_type": "stream",
     "text": [
      "Sum of purchases with Amex is 188900\n",
      "Sum of purchases with Diners is 133800\n",
      "Sum of purchases with Mastercard is 459650\n",
      "Sum of purchases with Visa is 850550\n"
     ]
    }
   ],
   "source": [
    "# Select all rows with payment types\n",
    "amex = df.loc[:,['Price','Payment_Type']]\n",
    "amex = amex[ amex['Payment_Type'] == 'Amex' ]\n",
    "\n",
    "diners = df.loc[:,['Price','Payment_Type']]\n",
    "diners = diners[diners['Payment_Type'] == 'Diners']\n",
    "\n",
    "mc = df.loc[:,['Price','Payment_Type']]\n",
    "mc = mc[mc['Payment_Type'] == 'Mastercard']\n",
    "\n",
    "visa = df.loc[:,['Price','Payment_Type']]\n",
    "visa = visa[visa['Payment_Type'] == 'Visa']\n",
    "\n",
    "result = [amex, diners, mc, visa]\n",
    "result_concat = pd.concat([amex, diners, mc, visa], keys={'amex': amex,\n",
    "                                                          'diners': diners,\n",
    "                                                          'mc': mc,\n",
    "                                                          'visa': visa})\n",
    "sum_amex = sum(amex['Price'])\n",
    "sum_diners = sum(diners['Price'])\n",
    "sum_mc = sum(mc['Price'])\n",
    "sum_visa = sum(visa['Price'])\n",
    "\n",
    "# Printing all purchases with each payment type\n",
    "print(\"Sum of purchases with Amex is {}\".format(sum_amex))\n",
    "print(\"Sum of purchases with Diners is {}\".format(sum_diners))\n",
    "print(\"Sum of purchases with Mastercard is {}\".format(sum_mc))\n",
    "print(\"Sum of purchases with Visa is {}\".format(sum_visa))"
   ]
  },
  {
   "cell_type": "code",
   "execution_count": 12,
   "metadata": {},
   "outputs": [],
   "source": [
    "# Saving new dataframe to csv\n",
    "result_concat.to_csv('result_dataframe.csv', encoding='utf8')"
   ]
  },
  {
   "cell_type": "code",
   "execution_count": 13,
   "metadata": {},
   "outputs": [
    {
     "name": "stdout",
     "output_type": "stream",
     "text": [
      "            Payment_Type\n",
      "Visa                 523\n",
      "Mastercard           278\n",
      "Amex                 110\n",
      "Diners                89\n"
     ]
    }
   ],
   "source": [
    "# Get the total number of transactions for each payment type\n",
    "payment_values = df['Payment_Type'].value_counts().to_frame()\n",
    "print(payment_values)"
   ]
  },
  {
   "cell_type": "code",
   "execution_count": 14,
   "metadata": {},
   "outputs": [
    {
     "data": {
      "image/png": "[encoded data removed]",
      "text/plain": [
       "<Figure size 936x576 with 1 Axes>"
      ]
     },
     "metadata": {},
     "output_type": "display_data"
    }
   ],
   "source": [
    "# Plotting results\n",
    "\n",
    "# Creating new dataframe to be plotted\n",
    "df_plot = pd.DataFrame([[sum_amex, sum_diners, sum_mc, sum_visa]])\n",
    "df_plot.columns = ['Amex', 'Diners', 'Mastercard', 'Visa']\n",
    "\n",
    "df_plot.plot.bar(figsize=(13,8))\n",
    "\n",
    "plt.legend(loc=2)\n",
    "plt.ylabel('Sum $')\n",
    "plt.show()"
   ]
  },
  {
   "cell_type": "code",
   "execution_count": null,
   "metadata": {},
   "outputs": [],
   "source": []
  },
  {
   "cell_type": "code",
   "execution_count": null,
   "metadata": {},
   "outputs": [],
   "source": []
  }
 ],
 "metadata": {
  "kernelspec": {
   "display_name": "Python 3",
   "language": "python",
   "name": "python3"
  },
  "language_info": {
   "codemirror_mode": {
    "name": "ipython",
    "version": 3
   },
   "file_extension": ".py",
   "mimetype": "text/x-python",
   "name": "python",
   "nbconvert_exporter": "python",
   "pygments_lexer": "ipython3",
   "version": "3.8.8"
  }
 },
 "nbformat": 4,
 "nbformat_minor": 4
}
